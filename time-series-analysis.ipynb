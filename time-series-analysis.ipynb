{
 "cells": [
  {
   "cell_type": "markdown",
   "id": "35d83dd6-729c-4f5c-b47d-c25a38e268bd",
   "metadata": {},
   "source": [
    "# Time Series Analysis"
   ]
  },
  {
   "cell_type": "markdown",
   "id": "b700a9d3-f975-4d4f-9eb6-92831a8968cb",
   "metadata": {},
   "source": [
    "## Load packages"
   ]
  },
  {
   "cell_type": "code",
   "execution_count": 1,
   "id": "3e6ee7c6-1e97-4ab5-8d32-d63369e1fd2f",
   "metadata": {
    "tags": []
   },
   "outputs": [],
   "source": [
    "import intake"
   ]
  },
  {
   "cell_type": "markdown",
   "id": "6bbc07a2-c31c-4f59-8b8a-9286a67ba568",
   "metadata": {
    "tags": []
   },
   "source": [
    "## Read catalog"
   ]
  },
  {
   "cell_type": "code",
   "execution_count": 3,
   "id": "816de530-d5ba-4186-9edf-2a61aef792dd",
   "metadata": {
    "tags": []
   },
   "outputs": [],
   "source": [
    "# CMIP6 catalog\n",
    "catalog = intake.open_esm_datastore('https://cmip6-pds.s3.amazonaws.com/pangeo-cmip6.json')"
   ]
  },
  {
   "cell_type": "markdown",
   "id": "11f48518-3ee9-44b8-80ce-fb7b53e043f1",
   "metadata": {},
   "source": [
    "## Data exploration"
   ]
  },
  {
   "cell_type": "code",
   "execution_count": 59,
   "id": "903d85fc-9ebd-409b-960e-d7c1bb1c3f3d",
   "metadata": {
    "tags": []
   },
   "outputs": [],
   "source": [
    "# Results from catalog search\n",
    "res = catalog.search(activity_id = [\"CMIP\", \"ScenarioMIP\"], # historical data and future projections\n",
    "                     source_id = [\"GFDL-CM4\", \"GFDL-ESM4\"], # NOAA models (Global Climate Model, Earth Systems)\n",
    "                     experiment_id = [\"historical\", \"ssp245\", \"ssp585\"], # historical data (CMIP), middle of the road, fossil fueled development\n",
    "                     table_id = \"Amon\", # Atmospheric monthly data\n",
    "                     member_id = \"r1i1p1f1\", # variant id\n",
    "                     variable_id = \"tas\") # Surface air temperature"
   ]
  },
  {
   "cell_type": "code",
   "execution_count": 61,
   "id": "2632e0a2-9cd5-467f-bab8-64009bebd6a6",
   "metadata": {
    "tags": []
   },
   "outputs": [
    {
     "data": {
      "text/html": [
       "<div>\n",
       "<style scoped>\n",
       "    .dataframe tbody tr th:only-of-type {\n",
       "        vertical-align: middle;\n",
       "    }\n",
       "\n",
       "    .dataframe tbody tr th {\n",
       "        vertical-align: top;\n",
       "    }\n",
       "\n",
       "    .dataframe thead th {\n",
       "        text-align: right;\n",
       "    }\n",
       "</style>\n",
       "<table border=\"1\" class=\"dataframe\">\n",
       "  <thead>\n",
       "    <tr style=\"text-align: right;\">\n",
       "      <th></th>\n",
       "      <th>activity_id</th>\n",
       "      <th>institution_id</th>\n",
       "      <th>source_id</th>\n",
       "      <th>experiment_id</th>\n",
       "      <th>member_id</th>\n",
       "      <th>table_id</th>\n",
       "      <th>variable_id</th>\n",
       "      <th>grid_label</th>\n",
       "      <th>zstore</th>\n",
       "      <th>dcpp_init_year</th>\n",
       "      <th>version</th>\n",
       "    </tr>\n",
       "  </thead>\n",
       "  <tbody>\n",
       "    <tr>\n",
       "      <th>0</th>\n",
       "      <td>ScenarioMIP</td>\n",
       "      <td>NOAA-GFDL</td>\n",
       "      <td>GFDL-CM4</td>\n",
       "      <td>ssp585</td>\n",
       "      <td>r1i1p1f1</td>\n",
       "      <td>Amon</td>\n",
       "      <td>tas</td>\n",
       "      <td>gr1</td>\n",
       "      <td>s3://cmip6-pds/CMIP6/ScenarioMIP/NOAA-GFDL/GFD...</td>\n",
       "      <td>NaN</td>\n",
       "      <td>20180701</td>\n",
       "    </tr>\n",
       "    <tr>\n",
       "      <th>1</th>\n",
       "      <td>CMIP</td>\n",
       "      <td>NOAA-GFDL</td>\n",
       "      <td>GFDL-CM4</td>\n",
       "      <td>historical</td>\n",
       "      <td>r1i1p1f1</td>\n",
       "      <td>Amon</td>\n",
       "      <td>tas</td>\n",
       "      <td>gr1</td>\n",
       "      <td>s3://cmip6-pds/CMIP6/CMIP/NOAA-GFDL/GFDL-CM4/h...</td>\n",
       "      <td>NaN</td>\n",
       "      <td>20180701</td>\n",
       "    </tr>\n",
       "    <tr>\n",
       "      <th>2</th>\n",
       "      <td>ScenarioMIP</td>\n",
       "      <td>NOAA-GFDL</td>\n",
       "      <td>GFDL-ESM4</td>\n",
       "      <td>ssp245</td>\n",
       "      <td>r1i1p1f1</td>\n",
       "      <td>Amon</td>\n",
       "      <td>tas</td>\n",
       "      <td>gr1</td>\n",
       "      <td>s3://cmip6-pds/CMIP6/ScenarioMIP/NOAA-GFDL/GFD...</td>\n",
       "      <td>NaN</td>\n",
       "      <td>20180701</td>\n",
       "    </tr>\n",
       "    <tr>\n",
       "      <th>3</th>\n",
       "      <td>ScenarioMIP</td>\n",
       "      <td>NOAA-GFDL</td>\n",
       "      <td>GFDL-ESM4</td>\n",
       "      <td>ssp585</td>\n",
       "      <td>r1i1p1f1</td>\n",
       "      <td>Amon</td>\n",
       "      <td>tas</td>\n",
       "      <td>gr1</td>\n",
       "      <td>s3://cmip6-pds/CMIP6/ScenarioMIP/NOAA-GFDL/GFD...</td>\n",
       "      <td>NaN</td>\n",
       "      <td>20180701</td>\n",
       "    </tr>\n",
       "    <tr>\n",
       "      <th>4</th>\n",
       "      <td>ScenarioMIP</td>\n",
       "      <td>NOAA-GFDL</td>\n",
       "      <td>GFDL-CM4</td>\n",
       "      <td>ssp245</td>\n",
       "      <td>r1i1p1f1</td>\n",
       "      <td>Amon</td>\n",
       "      <td>tas</td>\n",
       "      <td>gr1</td>\n",
       "      <td>s3://cmip6-pds/CMIP6/ScenarioMIP/NOAA-GFDL/GFD...</td>\n",
       "      <td>NaN</td>\n",
       "      <td>20180701</td>\n",
       "    </tr>\n",
       "    <tr>\n",
       "      <th>5</th>\n",
       "      <td>CMIP</td>\n",
       "      <td>NOAA-GFDL</td>\n",
       "      <td>GFDL-ESM4</td>\n",
       "      <td>historical</td>\n",
       "      <td>r1i1p1f1</td>\n",
       "      <td>Amon</td>\n",
       "      <td>tas</td>\n",
       "      <td>gr1</td>\n",
       "      <td>s3://cmip6-pds/CMIP6/CMIP/NOAA-GFDL/GFDL-ESM4/...</td>\n",
       "      <td>NaN</td>\n",
       "      <td>20190726</td>\n",
       "    </tr>\n",
       "  </tbody>\n",
       "</table>\n",
       "</div>"
      ],
      "text/plain": [
       "   activity_id institution_id  source_id experiment_id member_id table_id  \\\n",
       "0  ScenarioMIP      NOAA-GFDL   GFDL-CM4        ssp585  r1i1p1f1     Amon   \n",
       "1         CMIP      NOAA-GFDL   GFDL-CM4    historical  r1i1p1f1     Amon   \n",
       "2  ScenarioMIP      NOAA-GFDL  GFDL-ESM4        ssp245  r1i1p1f1     Amon   \n",
       "3  ScenarioMIP      NOAA-GFDL  GFDL-ESM4        ssp585  r1i1p1f1     Amon   \n",
       "4  ScenarioMIP      NOAA-GFDL   GFDL-CM4        ssp245  r1i1p1f1     Amon   \n",
       "5         CMIP      NOAA-GFDL  GFDL-ESM4    historical  r1i1p1f1     Amon   \n",
       "\n",
       "  variable_id grid_label                                             zstore  \\\n",
       "0         tas        gr1  s3://cmip6-pds/CMIP6/ScenarioMIP/NOAA-GFDL/GFD...   \n",
       "1         tas        gr1  s3://cmip6-pds/CMIP6/CMIP/NOAA-GFDL/GFDL-CM4/h...   \n",
       "2         tas        gr1  s3://cmip6-pds/CMIP6/ScenarioMIP/NOAA-GFDL/GFD...   \n",
       "3         tas        gr1  s3://cmip6-pds/CMIP6/ScenarioMIP/NOAA-GFDL/GFD...   \n",
       "4         tas        gr1  s3://cmip6-pds/CMIP6/ScenarioMIP/NOAA-GFDL/GFD...   \n",
       "5         tas        gr1  s3://cmip6-pds/CMIP6/CMIP/NOAA-GFDL/GFDL-ESM4/...   \n",
       "\n",
       "   dcpp_init_year   version  \n",
       "0             NaN  20180701  \n",
       "1             NaN  20180701  \n",
       "2             NaN  20180701  \n",
       "3             NaN  20180701  \n",
       "4             NaN  20180701  \n",
       "5             NaN  20190726  "
      ]
     },
     "metadata": {},
     "output_type": "display_data"
    }
   ],
   "source": [
    "# View results\n",
    "display(res.df)"
   ]
  }
 ],
 "metadata": {
  "kernelspec": {
   "display_name": "Anaconda 3 (EDS 296)",
   "language": "python",
   "name": "eds296-stevenson"
  },
  "language_info": {
   "codemirror_mode": {
    "name": "ipython",
    "version": 3
   },
   "file_extension": ".py",
   "mimetype": "text/x-python",
   "name": "python",
   "nbconvert_exporter": "python",
   "pygments_lexer": "ipython3",
   "version": "3.8.18"
  }
 },
 "nbformat": 4,
 "nbformat_minor": 5
}
